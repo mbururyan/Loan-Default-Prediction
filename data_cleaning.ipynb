{
 "cells": [
  {
   "cell_type": "markdown",
   "metadata": {},
   "source": [
    "## LOAN DEFAULT PREDICTION"
   ]
  },
  {
   "cell_type": "markdown",
   "metadata": {},
   "source": [
    "#### Here the data will be cleaned and merged"
   ]
  },
  {
   "cell_type": "code",
   "execution_count": 58,
   "metadata": {},
   "outputs": [],
   "source": [
    "# Import pandas and numpy\n",
    "\n",
    "import pandas as pd\n",
    "import numpy as np"
   ]
  },
  {
   "cell_type": "code",
   "execution_count": 59,
   "metadata": {},
   "outputs": [
    {
     "data": {
      "text/html": [
       "<div>\n",
       "<style scoped>\n",
       "    .dataframe tbody tr th:only-of-type {\n",
       "        vertical-align: middle;\n",
       "    }\n",
       "\n",
       "    .dataframe tbody tr th {\n",
       "        vertical-align: top;\n",
       "    }\n",
       "\n",
       "    .dataframe thead th {\n",
       "        text-align: right;\n",
       "    }\n",
       "</style>\n",
       "<table border=\"1\" class=\"dataframe\">\n",
       "  <thead>\n",
       "    <tr style=\"text-align: right;\">\n",
       "      <th></th>\n",
       "      <th>customerid</th>\n",
       "      <th>birthdate</th>\n",
       "      <th>bank_account_type</th>\n",
       "      <th>longitude_gps</th>\n",
       "      <th>latitude_gps</th>\n",
       "      <th>bank_name_clients</th>\n",
       "      <th>bank_branch_clients</th>\n",
       "      <th>employment_status_clients</th>\n",
       "      <th>level_of_education_clients</th>\n",
       "    </tr>\n",
       "  </thead>\n",
       "  <tbody>\n",
       "    <tr>\n",
       "      <th>0</th>\n",
       "      <td>8a858e135cb22031015cbafc76964ebd</td>\n",
       "      <td>1973-10-10 00:00:00.000000</td>\n",
       "      <td>Savings</td>\n",
       "      <td>3.319219</td>\n",
       "      <td>6.528604</td>\n",
       "      <td>GT Bank</td>\n",
       "      <td>NaN</td>\n",
       "      <td>NaN</td>\n",
       "      <td>NaN</td>\n",
       "    </tr>\n",
       "    <tr>\n",
       "      <th>1</th>\n",
       "      <td>8a858e275c7ea5ec015c82482d7c3996</td>\n",
       "      <td>1986-01-21 00:00:00.000000</td>\n",
       "      <td>Savings</td>\n",
       "      <td>3.325598</td>\n",
       "      <td>7.119403</td>\n",
       "      <td>Sterling Bank</td>\n",
       "      <td>NaN</td>\n",
       "      <td>Permanent</td>\n",
       "      <td>NaN</td>\n",
       "    </tr>\n",
       "    <tr>\n",
       "      <th>2</th>\n",
       "      <td>8a858e5b5bd99460015bdc95cd485634</td>\n",
       "      <td>1987-04-01 00:00:00.000000</td>\n",
       "      <td>Savings</td>\n",
       "      <td>5.746100</td>\n",
       "      <td>5.563174</td>\n",
       "      <td>Fidelity Bank</td>\n",
       "      <td>NaN</td>\n",
       "      <td>NaN</td>\n",
       "      <td>NaN</td>\n",
       "    </tr>\n",
       "    <tr>\n",
       "      <th>3</th>\n",
       "      <td>8a858efd5ca70688015cabd1f1e94b55</td>\n",
       "      <td>1991-07-19 00:00:00.000000</td>\n",
       "      <td>Savings</td>\n",
       "      <td>3.362850</td>\n",
       "      <td>6.642485</td>\n",
       "      <td>GT Bank</td>\n",
       "      <td>NaN</td>\n",
       "      <td>Permanent</td>\n",
       "      <td>NaN</td>\n",
       "    </tr>\n",
       "    <tr>\n",
       "      <th>4</th>\n",
       "      <td>8a858e785acd3412015acd48f4920d04</td>\n",
       "      <td>1982-11-22 00:00:00.000000</td>\n",
       "      <td>Savings</td>\n",
       "      <td>8.455332</td>\n",
       "      <td>11.971410</td>\n",
       "      <td>GT Bank</td>\n",
       "      <td>NaN</td>\n",
       "      <td>Permanent</td>\n",
       "      <td>NaN</td>\n",
       "    </tr>\n",
       "  </tbody>\n",
       "</table>\n",
       "</div>"
      ],
      "text/plain": [
       "                         customerid                   birthdate  \\\n",
       "0  8a858e135cb22031015cbafc76964ebd  1973-10-10 00:00:00.000000   \n",
       "1  8a858e275c7ea5ec015c82482d7c3996  1986-01-21 00:00:00.000000   \n",
       "2  8a858e5b5bd99460015bdc95cd485634  1987-04-01 00:00:00.000000   \n",
       "3  8a858efd5ca70688015cabd1f1e94b55  1991-07-19 00:00:00.000000   \n",
       "4  8a858e785acd3412015acd48f4920d04  1982-11-22 00:00:00.000000   \n",
       "\n",
       "  bank_account_type  longitude_gps  latitude_gps bank_name_clients  \\\n",
       "0           Savings       3.319219      6.528604           GT Bank   \n",
       "1           Savings       3.325598      7.119403     Sterling Bank   \n",
       "2           Savings       5.746100      5.563174     Fidelity Bank   \n",
       "3           Savings       3.362850      6.642485           GT Bank   \n",
       "4           Savings       8.455332     11.971410           GT Bank   \n",
       "\n",
       "  bank_branch_clients employment_status_clients level_of_education_clients  \n",
       "0                 NaN                       NaN                        NaN  \n",
       "1                 NaN                 Permanent                        NaN  \n",
       "2                 NaN                       NaN                        NaN  \n",
       "3                 NaN                 Permanent                        NaN  \n",
       "4                 NaN                 Permanent                        NaN  "
      ]
     },
     "execution_count": 59,
     "metadata": {},
     "output_type": "execute_result"
    }
   ],
   "source": [
    "#load all the datasets\n",
    "\n",
    "# 1. Demographics dataset\n",
    "\n",
    "demo = pd.read_csv('datasets/traindemographics.csv')\n",
    "demo.head()"
   ]
  },
  {
   "cell_type": "code",
   "execution_count": 60,
   "metadata": {},
   "outputs": [
    {
     "data": {
      "text/plain": [
       "(4346, 9)"
      ]
     },
     "execution_count": 60,
     "metadata": {},
     "output_type": "execute_result"
    }
   ],
   "source": [
    "demo.shape"
   ]
  },
  {
   "cell_type": "markdown",
   "metadata": {},
   "source": [
    "Demographics dataset has 4,364 rows and 9 columns"
   ]
  },
  {
   "cell_type": "code",
   "execution_count": 61,
   "metadata": {},
   "outputs": [
    {
     "data": {
      "text/html": [
       "<div>\n",
       "<style scoped>\n",
       "    .dataframe tbody tr th:only-of-type {\n",
       "        vertical-align: middle;\n",
       "    }\n",
       "\n",
       "    .dataframe tbody tr th {\n",
       "        vertical-align: top;\n",
       "    }\n",
       "\n",
       "    .dataframe thead th {\n",
       "        text-align: right;\n",
       "    }\n",
       "</style>\n",
       "<table border=\"1\" class=\"dataframe\">\n",
       "  <thead>\n",
       "    <tr style=\"text-align: right;\">\n",
       "      <th></th>\n",
       "      <th>customerid</th>\n",
       "      <th>systemloanid</th>\n",
       "      <th>loannumber</th>\n",
       "      <th>approveddate</th>\n",
       "      <th>creationdate</th>\n",
       "      <th>loanamount</th>\n",
       "      <th>totaldue</th>\n",
       "      <th>termdays</th>\n",
       "      <th>closeddate</th>\n",
       "      <th>referredby</th>\n",
       "      <th>firstduedate</th>\n",
       "      <th>firstrepaiddate</th>\n",
       "    </tr>\n",
       "  </thead>\n",
       "  <tbody>\n",
       "    <tr>\n",
       "      <th>0</th>\n",
       "      <td>8a2a81a74ce8c05d014cfb32a0da1049</td>\n",
       "      <td>301682320</td>\n",
       "      <td>2</td>\n",
       "      <td>2016-08-15 18:22:40.000000</td>\n",
       "      <td>2016-08-15 17:22:32.000000</td>\n",
       "      <td>10000.0</td>\n",
       "      <td>13000.0</td>\n",
       "      <td>30</td>\n",
       "      <td>2016-09-01 16:06:48.000000</td>\n",
       "      <td>NaN</td>\n",
       "      <td>2016-09-14 00:00:00.000000</td>\n",
       "      <td>2016-09-01 15:51:43.000000</td>\n",
       "    </tr>\n",
       "    <tr>\n",
       "      <th>1</th>\n",
       "      <td>8a2a81a74ce8c05d014cfb32a0da1049</td>\n",
       "      <td>301883808</td>\n",
       "      <td>9</td>\n",
       "      <td>2017-04-28 18:39:07.000000</td>\n",
       "      <td>2017-04-28 17:38:53.000000</td>\n",
       "      <td>10000.0</td>\n",
       "      <td>13000.0</td>\n",
       "      <td>30</td>\n",
       "      <td>2017-05-28 14:44:49.000000</td>\n",
       "      <td>NaN</td>\n",
       "      <td>2017-05-30 00:00:00.000000</td>\n",
       "      <td>2017-05-26 00:00:00.000000</td>\n",
       "    </tr>\n",
       "    <tr>\n",
       "      <th>2</th>\n",
       "      <td>8a2a81a74ce8c05d014cfb32a0da1049</td>\n",
       "      <td>301831714</td>\n",
       "      <td>8</td>\n",
       "      <td>2017-03-05 10:56:25.000000</td>\n",
       "      <td>2017-03-05 09:56:19.000000</td>\n",
       "      <td>20000.0</td>\n",
       "      <td>23800.0</td>\n",
       "      <td>30</td>\n",
       "      <td>2017-04-26 22:18:56.000000</td>\n",
       "      <td>NaN</td>\n",
       "      <td>2017-04-04 00:00:00.000000</td>\n",
       "      <td>2017-04-26 22:03:47.000000</td>\n",
       "    </tr>\n",
       "    <tr>\n",
       "      <th>3</th>\n",
       "      <td>8a8588f35438fe12015444567666018e</td>\n",
       "      <td>301861541</td>\n",
       "      <td>5</td>\n",
       "      <td>2017-04-09 18:25:55.000000</td>\n",
       "      <td>2017-04-09 17:25:42.000000</td>\n",
       "      <td>10000.0</td>\n",
       "      <td>11500.0</td>\n",
       "      <td>15</td>\n",
       "      <td>2017-04-24 01:35:52.000000</td>\n",
       "      <td>NaN</td>\n",
       "      <td>2017-04-24 00:00:00.000000</td>\n",
       "      <td>2017-04-24 00:48:43.000000</td>\n",
       "    </tr>\n",
       "    <tr>\n",
       "      <th>4</th>\n",
       "      <td>8a85890754145ace015429211b513e16</td>\n",
       "      <td>301941754</td>\n",
       "      <td>2</td>\n",
       "      <td>2017-06-17 09:29:57.000000</td>\n",
       "      <td>2017-06-17 08:29:50.000000</td>\n",
       "      <td>10000.0</td>\n",
       "      <td>11500.0</td>\n",
       "      <td>15</td>\n",
       "      <td>2017-07-14 21:18:43.000000</td>\n",
       "      <td>NaN</td>\n",
       "      <td>2017-07-03 00:00:00.000000</td>\n",
       "      <td>2017-07-14 21:08:35.000000</td>\n",
       "    </tr>\n",
       "  </tbody>\n",
       "</table>\n",
       "</div>"
      ],
      "text/plain": [
       "                         customerid  systemloanid  loannumber  \\\n",
       "0  8a2a81a74ce8c05d014cfb32a0da1049     301682320           2   \n",
       "1  8a2a81a74ce8c05d014cfb32a0da1049     301883808           9   \n",
       "2  8a2a81a74ce8c05d014cfb32a0da1049     301831714           8   \n",
       "3  8a8588f35438fe12015444567666018e     301861541           5   \n",
       "4  8a85890754145ace015429211b513e16     301941754           2   \n",
       "\n",
       "                 approveddate                creationdate  loanamount  \\\n",
       "0  2016-08-15 18:22:40.000000  2016-08-15 17:22:32.000000     10000.0   \n",
       "1  2017-04-28 18:39:07.000000  2017-04-28 17:38:53.000000     10000.0   \n",
       "2  2017-03-05 10:56:25.000000  2017-03-05 09:56:19.000000     20000.0   \n",
       "3  2017-04-09 18:25:55.000000  2017-04-09 17:25:42.000000     10000.0   \n",
       "4  2017-06-17 09:29:57.000000  2017-06-17 08:29:50.000000     10000.0   \n",
       "\n",
       "   totaldue  termdays                  closeddate referredby  \\\n",
       "0   13000.0        30  2016-09-01 16:06:48.000000        NaN   \n",
       "1   13000.0        30  2017-05-28 14:44:49.000000        NaN   \n",
       "2   23800.0        30  2017-04-26 22:18:56.000000        NaN   \n",
       "3   11500.0        15  2017-04-24 01:35:52.000000        NaN   \n",
       "4   11500.0        15  2017-07-14 21:18:43.000000        NaN   \n",
       "\n",
       "                 firstduedate             firstrepaiddate  \n",
       "0  2016-09-14 00:00:00.000000  2016-09-01 15:51:43.000000  \n",
       "1  2017-05-30 00:00:00.000000  2017-05-26 00:00:00.000000  \n",
       "2  2017-04-04 00:00:00.000000  2017-04-26 22:03:47.000000  \n",
       "3  2017-04-24 00:00:00.000000  2017-04-24 00:48:43.000000  \n",
       "4  2017-07-03 00:00:00.000000  2017-07-14 21:08:35.000000  "
      ]
     },
     "execution_count": 61,
     "metadata": {},
     "output_type": "execute_result"
    }
   ],
   "source": [
    "# 2. Previous loans dataset\n",
    "\n",
    "prev_loan = pd.read_csv('/Users/RyanMburu/Desktop/DS Projects/Loan Default Prediction/datasets/trainprevloans.csv')\n",
    "prev_loan.head()"
   ]
  },
  {
   "cell_type": "code",
   "execution_count": 62,
   "metadata": {},
   "outputs": [
    {
     "data": {
      "text/plain": [
       "(18183, 12)"
      ]
     },
     "execution_count": 62,
     "metadata": {},
     "output_type": "execute_result"
    }
   ],
   "source": [
    "prev_loan.shape"
   ]
  },
  {
   "cell_type": "markdown",
   "metadata": {},
   "source": [
    "The loans dataset has 18,183 rows with 12 columns. This is so as a single costumer can have more than one loan"
   ]
  },
  {
   "cell_type": "code",
   "execution_count": 63,
   "metadata": {},
   "outputs": [
    {
     "data": {
      "text/html": [
       "<div>\n",
       "<style scoped>\n",
       "    .dataframe tbody tr th:only-of-type {\n",
       "        vertical-align: middle;\n",
       "    }\n",
       "\n",
       "    .dataframe tbody tr th {\n",
       "        vertical-align: top;\n",
       "    }\n",
       "\n",
       "    .dataframe thead th {\n",
       "        text-align: right;\n",
       "    }\n",
       "</style>\n",
       "<table border=\"1\" class=\"dataframe\">\n",
       "  <thead>\n",
       "    <tr style=\"text-align: right;\">\n",
       "      <th></th>\n",
       "      <th>customerid</th>\n",
       "      <th>systemloanid</th>\n",
       "      <th>loannumber</th>\n",
       "      <th>approveddate</th>\n",
       "      <th>creationdate</th>\n",
       "      <th>loanamount</th>\n",
       "      <th>totaldue</th>\n",
       "      <th>termdays</th>\n",
       "      <th>referredby</th>\n",
       "      <th>good_bad_flag</th>\n",
       "    </tr>\n",
       "  </thead>\n",
       "  <tbody>\n",
       "    <tr>\n",
       "      <th>0</th>\n",
       "      <td>8a2a81a74ce8c05d014cfb32a0da1049</td>\n",
       "      <td>301994762</td>\n",
       "      <td>12</td>\n",
       "      <td>2017-07-25 08:22:56.000000</td>\n",
       "      <td>2017-07-25 07:22:47.000000</td>\n",
       "      <td>30000.0</td>\n",
       "      <td>34500.0</td>\n",
       "      <td>30</td>\n",
       "      <td>NaN</td>\n",
       "      <td>Good</td>\n",
       "    </tr>\n",
       "    <tr>\n",
       "      <th>1</th>\n",
       "      <td>8a85886e54beabf90154c0a29ae757c0</td>\n",
       "      <td>301965204</td>\n",
       "      <td>2</td>\n",
       "      <td>2017-07-05 17:04:41.000000</td>\n",
       "      <td>2017-07-05 16:04:18.000000</td>\n",
       "      <td>15000.0</td>\n",
       "      <td>17250.0</td>\n",
       "      <td>30</td>\n",
       "      <td>NaN</td>\n",
       "      <td>Good</td>\n",
       "    </tr>\n",
       "    <tr>\n",
       "      <th>2</th>\n",
       "      <td>8a8588f35438fe12015444567666018e</td>\n",
       "      <td>301966580</td>\n",
       "      <td>7</td>\n",
       "      <td>2017-07-06 14:52:57.000000</td>\n",
       "      <td>2017-07-06 13:52:51.000000</td>\n",
       "      <td>20000.0</td>\n",
       "      <td>22250.0</td>\n",
       "      <td>15</td>\n",
       "      <td>NaN</td>\n",
       "      <td>Good</td>\n",
       "    </tr>\n",
       "    <tr>\n",
       "      <th>3</th>\n",
       "      <td>8a85890754145ace015429211b513e16</td>\n",
       "      <td>301999343</td>\n",
       "      <td>3</td>\n",
       "      <td>2017-07-27 19:00:41.000000</td>\n",
       "      <td>2017-07-27 18:00:35.000000</td>\n",
       "      <td>10000.0</td>\n",
       "      <td>11500.0</td>\n",
       "      <td>15</td>\n",
       "      <td>NaN</td>\n",
       "      <td>Good</td>\n",
       "    </tr>\n",
       "    <tr>\n",
       "      <th>4</th>\n",
       "      <td>8a858970548359cc0154883481981866</td>\n",
       "      <td>301962360</td>\n",
       "      <td>9</td>\n",
       "      <td>2017-07-03 23:42:45.000000</td>\n",
       "      <td>2017-07-03 22:42:39.000000</td>\n",
       "      <td>40000.0</td>\n",
       "      <td>44000.0</td>\n",
       "      <td>30</td>\n",
       "      <td>NaN</td>\n",
       "      <td>Good</td>\n",
       "    </tr>\n",
       "  </tbody>\n",
       "</table>\n",
       "</div>"
      ],
      "text/plain": [
       "                         customerid  systemloanid  loannumber  \\\n",
       "0  8a2a81a74ce8c05d014cfb32a0da1049     301994762          12   \n",
       "1  8a85886e54beabf90154c0a29ae757c0     301965204           2   \n",
       "2  8a8588f35438fe12015444567666018e     301966580           7   \n",
       "3  8a85890754145ace015429211b513e16     301999343           3   \n",
       "4  8a858970548359cc0154883481981866     301962360           9   \n",
       "\n",
       "                 approveddate                creationdate  loanamount  \\\n",
       "0  2017-07-25 08:22:56.000000  2017-07-25 07:22:47.000000     30000.0   \n",
       "1  2017-07-05 17:04:41.000000  2017-07-05 16:04:18.000000     15000.0   \n",
       "2  2017-07-06 14:52:57.000000  2017-07-06 13:52:51.000000     20000.0   \n",
       "3  2017-07-27 19:00:41.000000  2017-07-27 18:00:35.000000     10000.0   \n",
       "4  2017-07-03 23:42:45.000000  2017-07-03 22:42:39.000000     40000.0   \n",
       "\n",
       "   totaldue  termdays referredby good_bad_flag  \n",
       "0   34500.0        30        NaN          Good  \n",
       "1   17250.0        30        NaN          Good  \n",
       "2   22250.0        15        NaN          Good  \n",
       "3   11500.0        15        NaN          Good  \n",
       "4   44000.0        30        NaN          Good  "
      ]
     },
     "execution_count": 63,
     "metadata": {},
     "output_type": "execute_result"
    }
   ],
   "source": [
    "# 3. Perfomance dataset\n",
    "\n",
    "perf = pd.read_csv('datasets/trainperf.csv')\n",
    "perf.head()"
   ]
  },
  {
   "cell_type": "code",
   "execution_count": 64,
   "metadata": {},
   "outputs": [
    {
     "data": {
      "text/plain": [
       "(4368, 10)"
      ]
     },
     "execution_count": 64,
     "metadata": {},
     "output_type": "execute_result"
    }
   ],
   "source": [
    "perf.shape"
   ]
  },
  {
   "cell_type": "markdown",
   "metadata": {},
   "source": [
    "Will iteratively clean all 3 datasets before merging.\n",
    "\n",
    "The data should be : \n",
    "1. Valid\n",
    "2. Accurate\n",
    "3. Complete\n",
    "4. Consistent\n",
    "5. Uniform"
   ]
  },
  {
   "cell_type": "markdown",
   "metadata": {},
   "source": [
    "## 1. Validity\n",
    "\n",
    "Columns not useful in our analysis will be dropped "
   ]
  },
  {
   "cell_type": "code",
   "execution_count": 65,
   "metadata": {},
   "outputs": [
    {
     "data": {
      "text/html": [
       "<div>\n",
       "<style scoped>\n",
       "    .dataframe tbody tr th:only-of-type {\n",
       "        vertical-align: middle;\n",
       "    }\n",
       "\n",
       "    .dataframe tbody tr th {\n",
       "        vertical-align: top;\n",
       "    }\n",
       "\n",
       "    .dataframe thead th {\n",
       "        text-align: right;\n",
       "    }\n",
       "</style>\n",
       "<table border=\"1\" class=\"dataframe\">\n",
       "  <thead>\n",
       "    <tr style=\"text-align: right;\">\n",
       "      <th></th>\n",
       "      <th>customerid</th>\n",
       "      <th>birthdate</th>\n",
       "      <th>bank_account_type</th>\n",
       "      <th>longitude_gps</th>\n",
       "      <th>latitude_gps</th>\n",
       "      <th>bank_name_clients</th>\n",
       "      <th>employment_status_clients</th>\n",
       "    </tr>\n",
       "  </thead>\n",
       "  <tbody>\n",
       "    <tr>\n",
       "      <th>0</th>\n",
       "      <td>8a858e135cb22031015cbafc76964ebd</td>\n",
       "      <td>1973-10-10 00:00:00.000000</td>\n",
       "      <td>Savings</td>\n",
       "      <td>3.319219</td>\n",
       "      <td>6.528604</td>\n",
       "      <td>GT Bank</td>\n",
       "      <td>NaN</td>\n",
       "    </tr>\n",
       "    <tr>\n",
       "      <th>1</th>\n",
       "      <td>8a858e275c7ea5ec015c82482d7c3996</td>\n",
       "      <td>1986-01-21 00:00:00.000000</td>\n",
       "      <td>Savings</td>\n",
       "      <td>3.325598</td>\n",
       "      <td>7.119403</td>\n",
       "      <td>Sterling Bank</td>\n",
       "      <td>Permanent</td>\n",
       "    </tr>\n",
       "    <tr>\n",
       "      <th>2</th>\n",
       "      <td>8a858e5b5bd99460015bdc95cd485634</td>\n",
       "      <td>1987-04-01 00:00:00.000000</td>\n",
       "      <td>Savings</td>\n",
       "      <td>5.746100</td>\n",
       "      <td>5.563174</td>\n",
       "      <td>Fidelity Bank</td>\n",
       "      <td>NaN</td>\n",
       "    </tr>\n",
       "    <tr>\n",
       "      <th>3</th>\n",
       "      <td>8a858efd5ca70688015cabd1f1e94b55</td>\n",
       "      <td>1991-07-19 00:00:00.000000</td>\n",
       "      <td>Savings</td>\n",
       "      <td>3.362850</td>\n",
       "      <td>6.642485</td>\n",
       "      <td>GT Bank</td>\n",
       "      <td>Permanent</td>\n",
       "    </tr>\n",
       "    <tr>\n",
       "      <th>4</th>\n",
       "      <td>8a858e785acd3412015acd48f4920d04</td>\n",
       "      <td>1982-11-22 00:00:00.000000</td>\n",
       "      <td>Savings</td>\n",
       "      <td>8.455332</td>\n",
       "      <td>11.971410</td>\n",
       "      <td>GT Bank</td>\n",
       "      <td>Permanent</td>\n",
       "    </tr>\n",
       "  </tbody>\n",
       "</table>\n",
       "</div>"
      ],
      "text/plain": [
       "                         customerid                   birthdate  \\\n",
       "0  8a858e135cb22031015cbafc76964ebd  1973-10-10 00:00:00.000000   \n",
       "1  8a858e275c7ea5ec015c82482d7c3996  1986-01-21 00:00:00.000000   \n",
       "2  8a858e5b5bd99460015bdc95cd485634  1987-04-01 00:00:00.000000   \n",
       "3  8a858efd5ca70688015cabd1f1e94b55  1991-07-19 00:00:00.000000   \n",
       "4  8a858e785acd3412015acd48f4920d04  1982-11-22 00:00:00.000000   \n",
       "\n",
       "  bank_account_type  longitude_gps  latitude_gps bank_name_clients  \\\n",
       "0           Savings       3.319219      6.528604           GT Bank   \n",
       "1           Savings       3.325598      7.119403     Sterling Bank   \n",
       "2           Savings       5.746100      5.563174     Fidelity Bank   \n",
       "3           Savings       3.362850      6.642485           GT Bank   \n",
       "4           Savings       8.455332     11.971410           GT Bank   \n",
       "\n",
       "  employment_status_clients  \n",
       "0                       NaN  \n",
       "1                 Permanent  \n",
       "2                       NaN  \n",
       "3                 Permanent  \n",
       "4                 Permanent  "
      ]
     },
     "execution_count": 65,
     "metadata": {},
     "output_type": "execute_result"
    }
   ],
   "source": [
    "# 1. Demographics Dataset\n",
    "\n",
    "# will drop branch bank clients and level of education\n",
    "\n",
    "demo.drop(columns=['bank_branch_clients', 'level_of_education_clients'], inplace=True, axis=1)\n",
    "\n",
    "demo.head()"
   ]
  },
  {
   "cell_type": "markdown",
   "metadata": {},
   "source": [
    "The other datasets are deemed valid."
   ]
  },
  {
   "cell_type": "markdown",
   "metadata": {},
   "source": [
    "## 2.  Accuracy\n",
    "\n",
    "As its a business based datasets based on loans, it will be assumed the math is correct enough."
   ]
  },
  {
   "cell_type": "markdown",
   "metadata": {},
   "source": [
    "## 3. Completeness\n",
    "\n",
    "Will check for null values and handle them if present"
   ]
  },
  {
   "cell_type": "code",
   "execution_count": 66,
   "metadata": {},
   "outputs": [
    {
     "data": {
      "text/plain": [
       "customerid                     0\n",
       "birthdate                      0\n",
       "bank_account_type              0\n",
       "longitude_gps                  0\n",
       "latitude_gps                   0\n",
       "bank_name_clients              0\n",
       "employment_status_clients    648\n",
       "dtype: int64"
      ]
     },
     "execution_count": 66,
     "metadata": {},
     "output_type": "execute_result"
    }
   ],
   "source": [
    "#1. Demographics dataset\n",
    "\n",
    "demo.isna().sum()"
   ]
  },
  {
   "cell_type": "code",
   "execution_count": 67,
   "metadata": {},
   "outputs": [],
   "source": [
    "# so as to avoid losing data, will replace the NaN values in employment status column with unknown\n",
    "\n",
    "demo['employment_status_clients'].fillna('Unknown', inplace = True)"
   ]
  },
  {
   "cell_type": "code",
   "execution_count": 68,
   "metadata": {},
   "outputs": [
    {
     "data": {
      "text/plain": [
       "customerid                   0\n",
       "birthdate                    0\n",
       "bank_account_type            0\n",
       "longitude_gps                0\n",
       "latitude_gps                 0\n",
       "bank_name_clients            0\n",
       "employment_status_clients    0\n",
       "dtype: int64"
      ]
     },
     "execution_count": 68,
     "metadata": {},
     "output_type": "execute_result"
    }
   ],
   "source": [
    "#Check if the null values are replaced\n",
    "demo.isna().sum()"
   ]
  },
  {
   "cell_type": "code",
   "execution_count": 69,
   "metadata": {},
   "outputs": [
    {
     "data": {
      "text/plain": [
       "customerid             0\n",
       "systemloanid           0\n",
       "loannumber             0\n",
       "approveddate           0\n",
       "creationdate           0\n",
       "loanamount             0\n",
       "totaldue               0\n",
       "termdays               0\n",
       "closeddate             0\n",
       "referredby         17157\n",
       "firstduedate           0\n",
       "firstrepaiddate        0\n",
       "dtype: int64"
      ]
     },
     "execution_count": 69,
     "metadata": {},
     "output_type": "execute_result"
    }
   ],
   "source": [
    "# 2. Previouls loan dataset\n",
    "\n",
    "prev_loan.isna().sum()"
   ]
  },
  {
   "cell_type": "markdown",
   "metadata": {},
   "source": [
    "The refered by column has 17,000 + null values, thats morev than 90% of the data. Dropping them would lead to too much data being lost.\n",
    "\n",
    "The column itself will be dropped.\n"
   ]
  },
  {
   "cell_type": "code",
   "execution_count": 70,
   "metadata": {},
   "outputs": [],
   "source": [
    "#Dropping the columns with alot of null values\n",
    "prev_loan.drop(columns = ['referredby'], axis = 1, inplace = True)"
   ]
  },
  {
   "cell_type": "code",
   "execution_count": 71,
   "metadata": {},
   "outputs": [
    {
     "data": {
      "text/plain": [
       "customerid         0\n",
       "systemloanid       0\n",
       "loannumber         0\n",
       "approveddate       0\n",
       "creationdate       0\n",
       "loanamount         0\n",
       "totaldue           0\n",
       "termdays           0\n",
       "closeddate         0\n",
       "firstduedate       0\n",
       "firstrepaiddate    0\n",
       "dtype: int64"
      ]
     },
     "execution_count": 71,
     "metadata": {},
     "output_type": "execute_result"
    }
   ],
   "source": [
    "# Check for null values again\n",
    "prev_loan.isna().sum()"
   ]
  },
  {
   "cell_type": "code",
   "execution_count": 72,
   "metadata": {},
   "outputs": [
    {
     "data": {
      "text/plain": [
       "customerid          0\n",
       "systemloanid        0\n",
       "loannumber          0\n",
       "approveddate        0\n",
       "creationdate        0\n",
       "loanamount          0\n",
       "totaldue            0\n",
       "termdays            0\n",
       "referredby       3781\n",
       "good_bad_flag       0\n",
       "dtype: int64"
      ]
     },
     "execution_count": 72,
     "metadata": {},
     "output_type": "execute_result"
    }
   ],
   "source": [
    "# 3. Performance dataset\n",
    "perf.isna().sum()"
   ]
  },
  {
   "cell_type": "code",
   "execution_count": 73,
   "metadata": {},
   "outputs": [],
   "source": [
    "# will do the same as the loans dataset, dropping the referred by column\n",
    "perf.drop(columns = ['referredby'], axis = 1, inplace = True)"
   ]
  },
  {
   "cell_type": "code",
   "execution_count": 74,
   "metadata": {},
   "outputs": [
    {
     "data": {
      "text/plain": [
       "customerid       0\n",
       "systemloanid     0\n",
       "loannumber       0\n",
       "approveddate     0\n",
       "creationdate     0\n",
       "loanamount       0\n",
       "totaldue         0\n",
       "termdays         0\n",
       "good_bad_flag    0\n",
       "dtype: int64"
      ]
     },
     "execution_count": 74,
     "metadata": {},
     "output_type": "execute_result"
    }
   ],
   "source": [
    "perf.isna().sum()"
   ]
  },
  {
   "cell_type": "markdown",
   "metadata": {},
   "source": [
    "## 4. Consistency\n",
    "\n",
    "The data has to be consistent throughout. Here is where duplicates are often checked and handled"
   ]
  },
  {
   "cell_type": "code",
   "execution_count": 75,
   "metadata": {},
   "outputs": [],
   "source": [
    "# Function for checking duplicates\n",
    "\n",
    "def dups(dataset):\n",
    "    total_dups = dataset.duplicated().sum()\n",
    "    return total_dups\n"
   ]
  },
  {
   "cell_type": "code",
   "execution_count": 76,
   "metadata": {},
   "outputs": [
    {
     "data": {
      "text/plain": [
       "12"
      ]
     },
     "execution_count": 76,
     "metadata": {},
     "output_type": "execute_result"
    }
   ],
   "source": [
    "# Demographics dataset\n",
    "dups(demo)"
   ]
  },
  {
   "cell_type": "code",
   "execution_count": 77,
   "metadata": {},
   "outputs": [],
   "source": [
    "# drop those 12 duplicated values\n",
    "demo = demo.drop_duplicates()"
   ]
  },
  {
   "cell_type": "code",
   "execution_count": 78,
   "metadata": {},
   "outputs": [
    {
     "data": {
      "text/plain": [
       "0"
      ]
     },
     "execution_count": 78,
     "metadata": {},
     "output_type": "execute_result"
    }
   ],
   "source": [
    "dups(demo)"
   ]
  },
  {
   "cell_type": "code",
   "execution_count": 79,
   "metadata": {},
   "outputs": [
    {
     "data": {
      "text/plain": [
       "0"
      ]
     },
     "execution_count": 79,
     "metadata": {},
     "output_type": "execute_result"
    }
   ],
   "source": [
    "# performance dataset\n",
    "dups(perf)"
   ]
  },
  {
   "cell_type": "code",
   "execution_count": 80,
   "metadata": {},
   "outputs": [
    {
     "data": {
      "text/plain": [
       "0"
      ]
     },
     "execution_count": 80,
     "metadata": {},
     "output_type": "execute_result"
    }
   ],
   "source": [
    "# prev loans dataset\n",
    "dups(prev_loan)"
   ]
  },
  {
   "cell_type": "markdown",
   "metadata": {},
   "source": [
    "No more duplicates in our data"
   ]
  },
  {
   "cell_type": "markdown",
   "metadata": {},
   "source": [
    "## 5. Uniformity\n",
    "\n",
    "the dataset should look uniform throughout. Column names should be uniform and same for datatypes"
   ]
  },
  {
   "cell_type": "code",
   "execution_count": 81,
   "metadata": {},
   "outputs": [],
   "source": [
    "# The column names look good, all in lower case and spaced out by underscores\n",
    "\n",
    "# will proceed to check datatypes of the tables\n",
    "\n",
    "def datatypes(dataframe):\n",
    "    out = dataframe.dtypes\n",
    "    return out"
   ]
  },
  {
   "cell_type": "code",
   "execution_count": 82,
   "metadata": {},
   "outputs": [
    {
     "data": {
      "text/plain": [
       "customerid                    object\n",
       "birthdate                     object\n",
       "bank_account_type             object\n",
       "longitude_gps                float64\n",
       "latitude_gps                 float64\n",
       "bank_name_clients             object\n",
       "employment_status_clients     object\n",
       "dtype: object"
      ]
     },
     "execution_count": 82,
     "metadata": {},
     "output_type": "execute_result"
    }
   ],
   "source": [
    "#demographics table\n",
    "datatypes(demo)"
   ]
  },
  {
   "cell_type": "code",
   "execution_count": 83,
   "metadata": {},
   "outputs": [
    {
     "data": {
      "text/plain": [
       "customerid        object\n",
       "systemloanid       int64\n",
       "loannumber         int64\n",
       "approveddate      object\n",
       "creationdate      object\n",
       "loanamount       float64\n",
       "totaldue         float64\n",
       "termdays           int64\n",
       "good_bad_flag     object\n",
       "dtype: object"
      ]
     },
     "execution_count": 83,
     "metadata": {},
     "output_type": "execute_result"
    }
   ],
   "source": [
    "# Performance table\n",
    "datatypes(perf)"
   ]
  },
  {
   "cell_type": "code",
   "execution_count": 84,
   "metadata": {},
   "outputs": [
    {
     "data": {
      "text/plain": [
       "customerid          object\n",
       "systemloanid         int64\n",
       "loannumber           int64\n",
       "approveddate        object\n",
       "creationdate        object\n",
       "loanamount         float64\n",
       "totaldue           float64\n",
       "termdays             int64\n",
       "closeddate          object\n",
       "firstduedate        object\n",
       "firstrepaiddate     object\n",
       "dtype: object"
      ]
     },
     "execution_count": 84,
     "metadata": {},
     "output_type": "execute_result"
    }
   ],
   "source": [
    "# Previous loans table\n",
    "datatypes(prev_loan)"
   ]
  },
  {
   "cell_type": "markdown",
   "metadata": {},
   "source": [
    "Datatypes look good so far."
   ]
  },
  {
   "cell_type": "markdown",
   "metadata": {},
   "source": [
    "- Will proceed to calculate the ages of the customers based on their DOB in the demographics dataset"
   ]
  },
  {
   "cell_type": "code",
   "execution_count": 85,
   "metadata": {},
   "outputs": [
    {
     "data": {
      "text/html": [
       "<div>\n",
       "<style scoped>\n",
       "    .dataframe tbody tr th:only-of-type {\n",
       "        vertical-align: middle;\n",
       "    }\n",
       "\n",
       "    .dataframe tbody tr th {\n",
       "        vertical-align: top;\n",
       "    }\n",
       "\n",
       "    .dataframe thead th {\n",
       "        text-align: right;\n",
       "    }\n",
       "</style>\n",
       "<table border=\"1\" class=\"dataframe\">\n",
       "  <thead>\n",
       "    <tr style=\"text-align: right;\">\n",
       "      <th></th>\n",
       "      <th>customerid</th>\n",
       "      <th>birthdate</th>\n",
       "      <th>bank_account_type</th>\n",
       "      <th>longitude_gps</th>\n",
       "      <th>latitude_gps</th>\n",
       "      <th>bank_name_clients</th>\n",
       "      <th>employment_status_clients</th>\n",
       "    </tr>\n",
       "  </thead>\n",
       "  <tbody>\n",
       "    <tr>\n",
       "      <th>0</th>\n",
       "      <td>8a858e135cb22031015cbafc76964ebd</td>\n",
       "      <td>1973-10-10 00:00:00.000000</td>\n",
       "      <td>Savings</td>\n",
       "      <td>3.319219</td>\n",
       "      <td>6.528604</td>\n",
       "      <td>GT Bank</td>\n",
       "      <td>Unknown</td>\n",
       "    </tr>\n",
       "    <tr>\n",
       "      <th>1</th>\n",
       "      <td>8a858e275c7ea5ec015c82482d7c3996</td>\n",
       "      <td>1986-01-21 00:00:00.000000</td>\n",
       "      <td>Savings</td>\n",
       "      <td>3.325598</td>\n",
       "      <td>7.119403</td>\n",
       "      <td>Sterling Bank</td>\n",
       "      <td>Permanent</td>\n",
       "    </tr>\n",
       "    <tr>\n",
       "      <th>2</th>\n",
       "      <td>8a858e5b5bd99460015bdc95cd485634</td>\n",
       "      <td>1987-04-01 00:00:00.000000</td>\n",
       "      <td>Savings</td>\n",
       "      <td>5.746100</td>\n",
       "      <td>5.563174</td>\n",
       "      <td>Fidelity Bank</td>\n",
       "      <td>Unknown</td>\n",
       "    </tr>\n",
       "    <tr>\n",
       "      <th>3</th>\n",
       "      <td>8a858efd5ca70688015cabd1f1e94b55</td>\n",
       "      <td>1991-07-19 00:00:00.000000</td>\n",
       "      <td>Savings</td>\n",
       "      <td>3.362850</td>\n",
       "      <td>6.642485</td>\n",
       "      <td>GT Bank</td>\n",
       "      <td>Permanent</td>\n",
       "    </tr>\n",
       "    <tr>\n",
       "      <th>4</th>\n",
       "      <td>8a858e785acd3412015acd48f4920d04</td>\n",
       "      <td>1982-11-22 00:00:00.000000</td>\n",
       "      <td>Savings</td>\n",
       "      <td>8.455332</td>\n",
       "      <td>11.971410</td>\n",
       "      <td>GT Bank</td>\n",
       "      <td>Permanent</td>\n",
       "    </tr>\n",
       "  </tbody>\n",
       "</table>\n",
       "</div>"
      ],
      "text/plain": [
       "                         customerid                   birthdate  \\\n",
       "0  8a858e135cb22031015cbafc76964ebd  1973-10-10 00:00:00.000000   \n",
       "1  8a858e275c7ea5ec015c82482d7c3996  1986-01-21 00:00:00.000000   \n",
       "2  8a858e5b5bd99460015bdc95cd485634  1987-04-01 00:00:00.000000   \n",
       "3  8a858efd5ca70688015cabd1f1e94b55  1991-07-19 00:00:00.000000   \n",
       "4  8a858e785acd3412015acd48f4920d04  1982-11-22 00:00:00.000000   \n",
       "\n",
       "  bank_account_type  longitude_gps  latitude_gps bank_name_clients  \\\n",
       "0           Savings       3.319219      6.528604           GT Bank   \n",
       "1           Savings       3.325598      7.119403     Sterling Bank   \n",
       "2           Savings       5.746100      5.563174     Fidelity Bank   \n",
       "3           Savings       3.362850      6.642485           GT Bank   \n",
       "4           Savings       8.455332     11.971410           GT Bank   \n",
       "\n",
       "  employment_status_clients  \n",
       "0                   Unknown  \n",
       "1                 Permanent  \n",
       "2                   Unknown  \n",
       "3                 Permanent  \n",
       "4                 Permanent  "
      ]
     },
     "execution_count": 85,
     "metadata": {},
     "output_type": "execute_result"
    }
   ],
   "source": [
    "demo.head()"
   ]
  },
  {
   "cell_type": "markdown",
   "metadata": {},
   "source": [
    "### will calculate the ages of customers as the final stage of cleaning"
   ]
  },
  {
   "cell_type": "code",
   "execution_count": 86,
   "metadata": {},
   "outputs": [],
   "source": [
    "# Will attempt to calculate age from the customers' birthdates\n",
    "\n",
    "demo['birthdate'] = demo['birthdate'].str.strip('00:00:00.000000').astype(str)"
   ]
  },
  {
   "cell_type": "code",
   "execution_count": 94,
   "metadata": {},
   "outputs": [
    {
     "data": {
      "text/html": [
       "<div>\n",
       "<style scoped>\n",
       "    .dataframe tbody tr th:only-of-type {\n",
       "        vertical-align: middle;\n",
       "    }\n",
       "\n",
       "    .dataframe tbody tr th {\n",
       "        vertical-align: top;\n",
       "    }\n",
       "\n",
       "    .dataframe thead th {\n",
       "        text-align: right;\n",
       "    }\n",
       "</style>\n",
       "<table border=\"1\" class=\"dataframe\">\n",
       "  <thead>\n",
       "    <tr style=\"text-align: right;\">\n",
       "      <th></th>\n",
       "      <th>customerid</th>\n",
       "      <th>birthdate</th>\n",
       "      <th>bank_account_type</th>\n",
       "      <th>longitude_gps</th>\n",
       "      <th>latitude_gps</th>\n",
       "      <th>bank_name_clients</th>\n",
       "      <th>employment_status_clients</th>\n",
       "    </tr>\n",
       "  </thead>\n",
       "  <tbody>\n",
       "    <tr>\n",
       "      <th>0</th>\n",
       "      <td>8a858e135cb22031015cbafc76964ebd</td>\n",
       "      <td>1973-10-10</td>\n",
       "      <td>Savings</td>\n",
       "      <td>3.319219</td>\n",
       "      <td>6.528604</td>\n",
       "      <td>GT Bank</td>\n",
       "      <td>Unknown</td>\n",
       "    </tr>\n",
       "    <tr>\n",
       "      <th>1</th>\n",
       "      <td>8a858e275c7ea5ec015c82482d7c3996</td>\n",
       "      <td>1986-01-21</td>\n",
       "      <td>Savings</td>\n",
       "      <td>3.325598</td>\n",
       "      <td>7.119403</td>\n",
       "      <td>Sterling Bank</td>\n",
       "      <td>Permanent</td>\n",
       "    </tr>\n",
       "    <tr>\n",
       "      <th>2</th>\n",
       "      <td>8a858e5b5bd99460015bdc95cd485634</td>\n",
       "      <td>1987-04-01</td>\n",
       "      <td>Savings</td>\n",
       "      <td>5.746100</td>\n",
       "      <td>5.563174</td>\n",
       "      <td>Fidelity Bank</td>\n",
       "      <td>Unknown</td>\n",
       "    </tr>\n",
       "    <tr>\n",
       "      <th>3</th>\n",
       "      <td>8a858efd5ca70688015cabd1f1e94b55</td>\n",
       "      <td>1991-07-19</td>\n",
       "      <td>Savings</td>\n",
       "      <td>3.362850</td>\n",
       "      <td>6.642485</td>\n",
       "      <td>GT Bank</td>\n",
       "      <td>Permanent</td>\n",
       "    </tr>\n",
       "    <tr>\n",
       "      <th>4</th>\n",
       "      <td>8a858e785acd3412015acd48f4920d04</td>\n",
       "      <td>1982-11-22</td>\n",
       "      <td>Savings</td>\n",
       "      <td>8.455332</td>\n",
       "      <td>11.971410</td>\n",
       "      <td>GT Bank</td>\n",
       "      <td>Permanent</td>\n",
       "    </tr>\n",
       "  </tbody>\n",
       "</table>\n",
       "</div>"
      ],
      "text/plain": [
       "                         customerid    birthdate bank_account_type  \\\n",
       "0  8a858e135cb22031015cbafc76964ebd  1973-10-10            Savings   \n",
       "1  8a858e275c7ea5ec015c82482d7c3996  1986-01-21            Savings   \n",
       "2  8a858e5b5bd99460015bdc95cd485634  1987-04-01            Savings   \n",
       "3  8a858efd5ca70688015cabd1f1e94b55  1991-07-19            Savings   \n",
       "4  8a858e785acd3412015acd48f4920d04  1982-11-22            Savings   \n",
       "\n",
       "   longitude_gps  latitude_gps bank_name_clients employment_status_clients  \n",
       "0       3.319219      6.528604           GT Bank                   Unknown  \n",
       "1       3.325598      7.119403     Sterling Bank                 Permanent  \n",
       "2       5.746100      5.563174     Fidelity Bank                   Unknown  \n",
       "3       3.362850      6.642485           GT Bank                 Permanent  \n",
       "4       8.455332     11.971410           GT Bank                 Permanent  "
      ]
     },
     "execution_count": 94,
     "metadata": {},
     "output_type": "execute_result"
    }
   ],
   "source": [
    "demo.head()"
   ]
  },
  {
   "cell_type": "code",
   "execution_count": 96,
   "metadata": {},
   "outputs": [],
   "source": [
    "demo['birthdate'] = pd.to_datetime(demo['birthdate'])"
   ]
  },
  {
   "cell_type": "code",
   "execution_count": 97,
   "metadata": {},
   "outputs": [
    {
     "data": {
      "text/plain": [
       "customerid                           object\n",
       "birthdate                    datetime64[ns]\n",
       "bank_account_type                    object\n",
       "longitude_gps                       float64\n",
       "latitude_gps                        float64\n",
       "bank_name_clients                    object\n",
       "employment_status_clients            object\n",
       "dtype: object"
      ]
     },
     "execution_count": 97,
     "metadata": {},
     "output_type": "execute_result"
    }
   ],
   "source": [
    "demo.dtypes"
   ]
  },
  {
   "cell_type": "code",
   "execution_count": 100,
   "metadata": {},
   "outputs": [
    {
     "data": {
      "text/html": [
       "<div>\n",
       "<style scoped>\n",
       "    .dataframe tbody tr th:only-of-type {\n",
       "        vertical-align: middle;\n",
       "    }\n",
       "\n",
       "    .dataframe tbody tr th {\n",
       "        vertical-align: top;\n",
       "    }\n",
       "\n",
       "    .dataframe thead th {\n",
       "        text-align: right;\n",
       "    }\n",
       "</style>\n",
       "<table border=\"1\" class=\"dataframe\">\n",
       "  <thead>\n",
       "    <tr style=\"text-align: right;\">\n",
       "      <th></th>\n",
       "      <th>customerid</th>\n",
       "      <th>birthdate</th>\n",
       "      <th>bank_account_type</th>\n",
       "      <th>longitude_gps</th>\n",
       "      <th>latitude_gps</th>\n",
       "      <th>bank_name_clients</th>\n",
       "      <th>employment_status_clients</th>\n",
       "      <th>age</th>\n",
       "    </tr>\n",
       "  </thead>\n",
       "  <tbody>\n",
       "    <tr>\n",
       "      <th>0</th>\n",
       "      <td>8a858e135cb22031015cbafc76964ebd</td>\n",
       "      <td>1973-10-10</td>\n",
       "      <td>Savings</td>\n",
       "      <td>3.319219</td>\n",
       "      <td>6.528604</td>\n",
       "      <td>GT Bank</td>\n",
       "      <td>Unknown</td>\n",
       "      <td>48.0</td>\n",
       "    </tr>\n",
       "    <tr>\n",
       "      <th>1</th>\n",
       "      <td>8a858e275c7ea5ec015c82482d7c3996</td>\n",
       "      <td>1986-01-21</td>\n",
       "      <td>Savings</td>\n",
       "      <td>3.325598</td>\n",
       "      <td>7.119403</td>\n",
       "      <td>Sterling Bank</td>\n",
       "      <td>Permanent</td>\n",
       "      <td>36.0</td>\n",
       "    </tr>\n",
       "    <tr>\n",
       "      <th>2</th>\n",
       "      <td>8a858e5b5bd99460015bdc95cd485634</td>\n",
       "      <td>1987-04-01</td>\n",
       "      <td>Savings</td>\n",
       "      <td>5.746100</td>\n",
       "      <td>5.563174</td>\n",
       "      <td>Fidelity Bank</td>\n",
       "      <td>Unknown</td>\n",
       "      <td>34.0</td>\n",
       "    </tr>\n",
       "    <tr>\n",
       "      <th>3</th>\n",
       "      <td>8a858efd5ca70688015cabd1f1e94b55</td>\n",
       "      <td>1991-07-19</td>\n",
       "      <td>Savings</td>\n",
       "      <td>3.362850</td>\n",
       "      <td>6.642485</td>\n",
       "      <td>GT Bank</td>\n",
       "      <td>Permanent</td>\n",
       "      <td>30.0</td>\n",
       "    </tr>\n",
       "    <tr>\n",
       "      <th>4</th>\n",
       "      <td>8a858e785acd3412015acd48f4920d04</td>\n",
       "      <td>1982-11-22</td>\n",
       "      <td>Savings</td>\n",
       "      <td>8.455332</td>\n",
       "      <td>11.971410</td>\n",
       "      <td>GT Bank</td>\n",
       "      <td>Permanent</td>\n",
       "      <td>39.0</td>\n",
       "    </tr>\n",
       "  </tbody>\n",
       "</table>\n",
       "</div>"
      ],
      "text/plain": [
       "                         customerid  birthdate bank_account_type  \\\n",
       "0  8a858e135cb22031015cbafc76964ebd 1973-10-10           Savings   \n",
       "1  8a858e275c7ea5ec015c82482d7c3996 1986-01-21           Savings   \n",
       "2  8a858e5b5bd99460015bdc95cd485634 1987-04-01           Savings   \n",
       "3  8a858efd5ca70688015cabd1f1e94b55 1991-07-19           Savings   \n",
       "4  8a858e785acd3412015acd48f4920d04 1982-11-22           Savings   \n",
       "\n",
       "   longitude_gps  latitude_gps bank_name_clients employment_status_clients  \\\n",
       "0       3.319219      6.528604           GT Bank                   Unknown   \n",
       "1       3.325598      7.119403     Sterling Bank                 Permanent   \n",
       "2       5.746100      5.563174     Fidelity Bank                   Unknown   \n",
       "3       3.362850      6.642485           GT Bank                 Permanent   \n",
       "4       8.455332     11.971410           GT Bank                 Permanent   \n",
       "\n",
       "    age  \n",
       "0  48.0  \n",
       "1  36.0  \n",
       "2  34.0  \n",
       "3  30.0  \n",
       "4  39.0  "
      ]
     },
     "execution_count": 100,
     "metadata": {},
     "output_type": "execute_result"
    }
   ],
   "source": [
    "# Calculate age\n",
    "\n",
    "# Will use strptime to change DOB to correct format\n",
    "\n",
    "now = pd.to_datetime('now')\n",
    "now\n",
    "\n",
    "demo['age'] = (now - demo['birthdate']).astype('<m8[Y]')\n",
    "demo.head()"
   ]
  },
  {
   "cell_type": "code",
   "execution_count": 101,
   "metadata": {},
   "outputs": [
    {
     "data": {
      "text/html": [
       "<div>\n",
       "<style scoped>\n",
       "    .dataframe tbody tr th:only-of-type {\n",
       "        vertical-align: middle;\n",
       "    }\n",
       "\n",
       "    .dataframe tbody tr th {\n",
       "        vertical-align: top;\n",
       "    }\n",
       "\n",
       "    .dataframe thead th {\n",
       "        text-align: right;\n",
       "    }\n",
       "</style>\n",
       "<table border=\"1\" class=\"dataframe\">\n",
       "  <thead>\n",
       "    <tr style=\"text-align: right;\">\n",
       "      <th></th>\n",
       "      <th>customerid</th>\n",
       "      <th>systemloanid</th>\n",
       "      <th>loannumber</th>\n",
       "      <th>approveddate</th>\n",
       "      <th>creationdate</th>\n",
       "      <th>loanamount</th>\n",
       "      <th>totaldue</th>\n",
       "      <th>termdays</th>\n",
       "      <th>good_bad_flag</th>\n",
       "    </tr>\n",
       "  </thead>\n",
       "  <tbody>\n",
       "    <tr>\n",
       "      <th>0</th>\n",
       "      <td>8a2a81a74ce8c05d014cfb32a0da1049</td>\n",
       "      <td>301994762</td>\n",
       "      <td>12</td>\n",
       "      <td>2017-07-25 08:22:56.000000</td>\n",
       "      <td>2017-07-25 07:22:47.000000</td>\n",
       "      <td>30000.0</td>\n",
       "      <td>34500.0</td>\n",
       "      <td>30</td>\n",
       "      <td>Good</td>\n",
       "    </tr>\n",
       "    <tr>\n",
       "      <th>1</th>\n",
       "      <td>8a85886e54beabf90154c0a29ae757c0</td>\n",
       "      <td>301965204</td>\n",
       "      <td>2</td>\n",
       "      <td>2017-07-05 17:04:41.000000</td>\n",
       "      <td>2017-07-05 16:04:18.000000</td>\n",
       "      <td>15000.0</td>\n",
       "      <td>17250.0</td>\n",
       "      <td>30</td>\n",
       "      <td>Good</td>\n",
       "    </tr>\n",
       "    <tr>\n",
       "      <th>2</th>\n",
       "      <td>8a8588f35438fe12015444567666018e</td>\n",
       "      <td>301966580</td>\n",
       "      <td>7</td>\n",
       "      <td>2017-07-06 14:52:57.000000</td>\n",
       "      <td>2017-07-06 13:52:51.000000</td>\n",
       "      <td>20000.0</td>\n",
       "      <td>22250.0</td>\n",
       "      <td>15</td>\n",
       "      <td>Good</td>\n",
       "    </tr>\n",
       "    <tr>\n",
       "      <th>3</th>\n",
       "      <td>8a85890754145ace015429211b513e16</td>\n",
       "      <td>301999343</td>\n",
       "      <td>3</td>\n",
       "      <td>2017-07-27 19:00:41.000000</td>\n",
       "      <td>2017-07-27 18:00:35.000000</td>\n",
       "      <td>10000.0</td>\n",
       "      <td>11500.0</td>\n",
       "      <td>15</td>\n",
       "      <td>Good</td>\n",
       "    </tr>\n",
       "    <tr>\n",
       "      <th>4</th>\n",
       "      <td>8a858970548359cc0154883481981866</td>\n",
       "      <td>301962360</td>\n",
       "      <td>9</td>\n",
       "      <td>2017-07-03 23:42:45.000000</td>\n",
       "      <td>2017-07-03 22:42:39.000000</td>\n",
       "      <td>40000.0</td>\n",
       "      <td>44000.0</td>\n",
       "      <td>30</td>\n",
       "      <td>Good</td>\n",
       "    </tr>\n",
       "  </tbody>\n",
       "</table>\n",
       "</div>"
      ],
      "text/plain": [
       "                         customerid  systemloanid  loannumber  \\\n",
       "0  8a2a81a74ce8c05d014cfb32a0da1049     301994762          12   \n",
       "1  8a85886e54beabf90154c0a29ae757c0     301965204           2   \n",
       "2  8a8588f35438fe12015444567666018e     301966580           7   \n",
       "3  8a85890754145ace015429211b513e16     301999343           3   \n",
       "4  8a858970548359cc0154883481981866     301962360           9   \n",
       "\n",
       "                 approveddate                creationdate  loanamount  \\\n",
       "0  2017-07-25 08:22:56.000000  2017-07-25 07:22:47.000000     30000.0   \n",
       "1  2017-07-05 17:04:41.000000  2017-07-05 16:04:18.000000     15000.0   \n",
       "2  2017-07-06 14:52:57.000000  2017-07-06 13:52:51.000000     20000.0   \n",
       "3  2017-07-27 19:00:41.000000  2017-07-27 18:00:35.000000     10000.0   \n",
       "4  2017-07-03 23:42:45.000000  2017-07-03 22:42:39.000000     40000.0   \n",
       "\n",
       "   totaldue  termdays good_bad_flag  \n",
       "0   34500.0        30          Good  \n",
       "1   17250.0        30          Good  \n",
       "2   22250.0        15          Good  \n",
       "3   11500.0        15          Good  \n",
       "4   44000.0        30          Good  "
      ]
     },
     "execution_count": 101,
     "metadata": {},
     "output_type": "execute_result"
    }
   ],
   "source": [
    "perf.head()"
   ]
  },
  {
   "cell_type": "code",
   "execution_count": 102,
   "metadata": {},
   "outputs": [
    {
     "data": {
      "text/html": [
       "<div>\n",
       "<style scoped>\n",
       "    .dataframe tbody tr th:only-of-type {\n",
       "        vertical-align: middle;\n",
       "    }\n",
       "\n",
       "    .dataframe tbody tr th {\n",
       "        vertical-align: top;\n",
       "    }\n",
       "\n",
       "    .dataframe thead th {\n",
       "        text-align: right;\n",
       "    }\n",
       "</style>\n",
       "<table border=\"1\" class=\"dataframe\">\n",
       "  <thead>\n",
       "    <tr style=\"text-align: right;\">\n",
       "      <th></th>\n",
       "      <th>customerid</th>\n",
       "      <th>systemloanid</th>\n",
       "      <th>loannumber</th>\n",
       "      <th>approveddate</th>\n",
       "      <th>creationdate</th>\n",
       "      <th>loanamount</th>\n",
       "      <th>totaldue</th>\n",
       "      <th>termdays</th>\n",
       "      <th>closeddate</th>\n",
       "      <th>firstduedate</th>\n",
       "      <th>firstrepaiddate</th>\n",
       "    </tr>\n",
       "  </thead>\n",
       "  <tbody>\n",
       "    <tr>\n",
       "      <th>0</th>\n",
       "      <td>8a2a81a74ce8c05d014cfb32a0da1049</td>\n",
       "      <td>301682320</td>\n",
       "      <td>2</td>\n",
       "      <td>2016-08-15 18:22:40.000000</td>\n",
       "      <td>2016-08-15 17:22:32.000000</td>\n",
       "      <td>10000.0</td>\n",
       "      <td>13000.0</td>\n",
       "      <td>30</td>\n",
       "      <td>2016-09-01 16:06:48.000000</td>\n",
       "      <td>2016-09-14 00:00:00.000000</td>\n",
       "      <td>2016-09-01 15:51:43.000000</td>\n",
       "    </tr>\n",
       "    <tr>\n",
       "      <th>1</th>\n",
       "      <td>8a2a81a74ce8c05d014cfb32a0da1049</td>\n",
       "      <td>301883808</td>\n",
       "      <td>9</td>\n",
       "      <td>2017-04-28 18:39:07.000000</td>\n",
       "      <td>2017-04-28 17:38:53.000000</td>\n",
       "      <td>10000.0</td>\n",
       "      <td>13000.0</td>\n",
       "      <td>30</td>\n",
       "      <td>2017-05-28 14:44:49.000000</td>\n",
       "      <td>2017-05-30 00:00:00.000000</td>\n",
       "      <td>2017-05-26 00:00:00.000000</td>\n",
       "    </tr>\n",
       "    <tr>\n",
       "      <th>2</th>\n",
       "      <td>8a2a81a74ce8c05d014cfb32a0da1049</td>\n",
       "      <td>301831714</td>\n",
       "      <td>8</td>\n",
       "      <td>2017-03-05 10:56:25.000000</td>\n",
       "      <td>2017-03-05 09:56:19.000000</td>\n",
       "      <td>20000.0</td>\n",
       "      <td>23800.0</td>\n",
       "      <td>30</td>\n",
       "      <td>2017-04-26 22:18:56.000000</td>\n",
       "      <td>2017-04-04 00:00:00.000000</td>\n",
       "      <td>2017-04-26 22:03:47.000000</td>\n",
       "    </tr>\n",
       "    <tr>\n",
       "      <th>3</th>\n",
       "      <td>8a8588f35438fe12015444567666018e</td>\n",
       "      <td>301861541</td>\n",
       "      <td>5</td>\n",
       "      <td>2017-04-09 18:25:55.000000</td>\n",
       "      <td>2017-04-09 17:25:42.000000</td>\n",
       "      <td>10000.0</td>\n",
       "      <td>11500.0</td>\n",
       "      <td>15</td>\n",
       "      <td>2017-04-24 01:35:52.000000</td>\n",
       "      <td>2017-04-24 00:00:00.000000</td>\n",
       "      <td>2017-04-24 00:48:43.000000</td>\n",
       "    </tr>\n",
       "    <tr>\n",
       "      <th>4</th>\n",
       "      <td>8a85890754145ace015429211b513e16</td>\n",
       "      <td>301941754</td>\n",
       "      <td>2</td>\n",
       "      <td>2017-06-17 09:29:57.000000</td>\n",
       "      <td>2017-06-17 08:29:50.000000</td>\n",
       "      <td>10000.0</td>\n",
       "      <td>11500.0</td>\n",
       "      <td>15</td>\n",
       "      <td>2017-07-14 21:18:43.000000</td>\n",
       "      <td>2017-07-03 00:00:00.000000</td>\n",
       "      <td>2017-07-14 21:08:35.000000</td>\n",
       "    </tr>\n",
       "  </tbody>\n",
       "</table>\n",
       "</div>"
      ],
      "text/plain": [
       "                         customerid  systemloanid  loannumber  \\\n",
       "0  8a2a81a74ce8c05d014cfb32a0da1049     301682320           2   \n",
       "1  8a2a81a74ce8c05d014cfb32a0da1049     301883808           9   \n",
       "2  8a2a81a74ce8c05d014cfb32a0da1049     301831714           8   \n",
       "3  8a8588f35438fe12015444567666018e     301861541           5   \n",
       "4  8a85890754145ace015429211b513e16     301941754           2   \n",
       "\n",
       "                 approveddate                creationdate  loanamount  \\\n",
       "0  2016-08-15 18:22:40.000000  2016-08-15 17:22:32.000000     10000.0   \n",
       "1  2017-04-28 18:39:07.000000  2017-04-28 17:38:53.000000     10000.0   \n",
       "2  2017-03-05 10:56:25.000000  2017-03-05 09:56:19.000000     20000.0   \n",
       "3  2017-04-09 18:25:55.000000  2017-04-09 17:25:42.000000     10000.0   \n",
       "4  2017-06-17 09:29:57.000000  2017-06-17 08:29:50.000000     10000.0   \n",
       "\n",
       "   totaldue  termdays                  closeddate                firstduedate  \\\n",
       "0   13000.0        30  2016-09-01 16:06:48.000000  2016-09-14 00:00:00.000000   \n",
       "1   13000.0        30  2017-05-28 14:44:49.000000  2017-05-30 00:00:00.000000   \n",
       "2   23800.0        30  2017-04-26 22:18:56.000000  2017-04-04 00:00:00.000000   \n",
       "3   11500.0        15  2017-04-24 01:35:52.000000  2017-04-24 00:00:00.000000   \n",
       "4   11500.0        15  2017-07-14 21:18:43.000000  2017-07-03 00:00:00.000000   \n",
       "\n",
       "              firstrepaiddate  \n",
       "0  2016-09-01 15:51:43.000000  \n",
       "1  2017-05-26 00:00:00.000000  \n",
       "2  2017-04-26 22:03:47.000000  \n",
       "3  2017-04-24 00:48:43.000000  \n",
       "4  2017-07-14 21:08:35.000000  "
      ]
     },
     "execution_count": 102,
     "metadata": {},
     "output_type": "execute_result"
    }
   ],
   "source": [
    "prev_loan.head()"
   ]
  },
  {
   "cell_type": "markdown",
   "metadata": {},
   "source": [
    "#### Will go ahead and export the clean datasets "
   ]
  },
  {
   "cell_type": "code",
   "execution_count": 105,
   "metadata": {},
   "outputs": [],
   "source": [
    "# function that exports the datasets\n",
    "\n",
    "def data_exporter(dataset):\n",
    "    dataset_name = input()\n",
    "    dataset.to_csv(dataset_name, index = False)"
   ]
  },
  {
   "cell_type": "code",
   "execution_count": 106,
   "metadata": {},
   "outputs": [],
   "source": [
    "# Demographics data\n",
    "data_exporter(demo)"
   ]
  },
  {
   "cell_type": "code",
   "execution_count": 108,
   "metadata": {},
   "outputs": [],
   "source": [
    "# Performance data\n",
    "data_exporter(perf)"
   ]
  },
  {
   "cell_type": "code",
   "execution_count": 109,
   "metadata": {},
   "outputs": [],
   "source": [
    "# Previous loans data\n",
    "data_exporter(prev_loan)"
   ]
  },
  {
   "cell_type": "code",
   "execution_count": null,
   "metadata": {},
   "outputs": [],
   "source": []
  }
 ],
 "metadata": {
  "interpreter": {
   "hash": "769919d178be46a90f10bb6235c6ce087a03a24ee47c90f3a0e9832b171232d7"
  },
  "kernelspec": {
   "display_name": "Python 3.8.8 ('base')",
   "language": "python",
   "name": "python3"
  },
  "language_info": {
   "codemirror_mode": {
    "name": "ipython",
    "version": 3
   },
   "file_extension": ".py",
   "mimetype": "text/x-python",
   "name": "python",
   "nbconvert_exporter": "python",
   "pygments_lexer": "ipython3",
   "version": "3.8.8"
  },
  "orig_nbformat": 4
 },
 "nbformat": 4,
 "nbformat_minor": 2
}
